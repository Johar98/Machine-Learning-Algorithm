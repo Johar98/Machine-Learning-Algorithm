{
  "nbformat": 4,
  "nbformat_minor": 0,
  "metadata": {
    "colab": {
      "name": "Bag_Of_Words.ipynb",
      "provenance": [],
      "authorship_tag": "ABX9TyNRKATbx4mEmdSv56OFJSpb",
      "include_colab_link": true
    },
    "kernelspec": {
      "name": "python3",
      "display_name": "Python 3"
    },
    "language_info": {
      "name": "python"
    }
  },
  "cells": [
    {
      "cell_type": "markdown",
      "metadata": {
        "id": "view-in-github",
        "colab_type": "text"
      },
      "source": [
        "<a href=\"https://colab.research.google.com/github/Johar98/Machine-Learning-Algorithm/blob/main/Bag_Of_Words.ipynb\" target=\"_parent\"><img src=\"https://colab.research.google.com/assets/colab-badge.svg\" alt=\"Open In Colab\"/></a>"
      ]
    },
    {
      "cell_type": "code",
      "metadata": {
        "colab": {
          "base_uri": "https://localhost:8080/"
        },
        "id": "YPJgqQFgcXmT",
        "outputId": "393fdcf9-9e73-499c-8585-26bee8a91973"
      },
      "source": [
        "vocab = {}\n",
        "word_encoding = 1\n",
        "def bag_of_words(text):\n",
        "  global word_encoding\n",
        "  words = text.lower().split(\" \")\n",
        "  bag = {}\n",
        "  for word in words:\n",
        "    if word in vocab:\n",
        "      encoding = vocab[word]\n",
        "    else:\n",
        "      vocab[word] = word_encoding\n",
        "      encoding = word_encoding\n",
        "      word_encoding +=1\n",
        "    if encoding in bag:\n",
        "      bag[encoding]+=1\n",
        "  return bag\n",
        "\n",
        "text = \"this is a text to see if this text will work is to test aa\"\n",
        "bag = bag_of_words(text)\n",
        "print(bag)\n",
        "print(vocab)"
      ],
      "execution_count": 2,
      "outputs": [
        {
          "output_type": "stream",
          "text": [
            "{}\n",
            "{'this': 1, 'is': 2, 'a': 3, 'text': 4, 'to': 5, 'see': 6, 'if': 7, 'will': 8, 'work': 9, 'test': 10, 'aa': 11}\n"
          ],
          "name": "stdout"
        }
      ]
    }
  ]
}