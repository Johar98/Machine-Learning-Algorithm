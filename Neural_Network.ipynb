{
  "nbformat": 4,
  "nbformat_minor": 0,
  "metadata": {
    "colab": {
      "name": "Neural_Network.ipynb",
      "provenance": [],
      "collapsed_sections": [],
      "authorship_tag": "ABX9TyOW6FxsmI/vnL5iz02gGnd0",
      "include_colab_link": true
    },
    "kernelspec": {
      "name": "python3",
      "display_name": "Python 3"
    },
    "language_info": {
      "name": "python"
    }
  },
  "cells": [
    {
      "cell_type": "markdown",
      "metadata": {
        "id": "view-in-github",
        "colab_type": "text"
      },
      "source": [
        "<a href=\"https://colab.research.google.com/github/Johar98/Machine-Learning-Algorithm/blob/main/Neural_Network.ipynb\" target=\"_parent\"><img src=\"https://colab.research.google.com/assets/colab-badge.svg\" alt=\"Open In Colab\"/></a>"
      ]
    },
    {
      "cell_type": "code",
      "metadata": {
        "colab": {
          "base_uri": "https://localhost:8080/"
        },
        "id": "1f1LoVjs1sKX",
        "outputId": "744b8e1d-dbf1-4547-e72a-c6e208e2a486"
      },
      "source": [
        "%tensorflow_version 2.x #this line is not required unless you are in notebook\n",
        "import tensorflow as tf\n",
        "from tensorflow import keras #helper libraries\n",
        "import numpy as np\n",
        "import matplotlib.pyplot as plt"
      ],
      "execution_count": 1,
      "outputs": [
        {
          "output_type": "stream",
          "text": [
            "`%tensorflow_version` only switches the major version: 1.x or 2.x.\n",
            "You set: `2.x #this line is not required unless you are in notebook`. This will be interpreted as: `2.x`.\n",
            "\n",
            "\n",
            "TensorFlow 2.x selected.\n"
          ],
          "name": "stdout"
        }
      ]
    },
    {
      "cell_type": "code",
      "metadata": {
        "colab": {
          "base_uri": "https://localhost:8080/"
        },
        "id": "m3A5726V5fuN",
        "outputId": "d9433ab0-f773-45d1-b626-50ad4766104e"
      },
      "source": [
        "fashion_mist = keras.datasets.fashion_mnist #this will get our data object which is load inside .loaddata() function\n",
        "(train_image,train_labels),(test_images,test_labels) = fashion_mist.load_data()"
      ],
      "execution_count": 2,
      "outputs": [
        {
          "output_type": "stream",
          "text": [
            "Downloading data from https://storage.googleapis.com/tensorflow/tf-keras-datasets/train-labels-idx1-ubyte.gz\n",
            "32768/29515 [=================================] - 0s 0us/step\n",
            "Downloading data from https://storage.googleapis.com/tensorflow/tf-keras-datasets/train-images-idx3-ubyte.gz\n",
            "26427392/26421880 [==============================] - 0s 0us/step\n",
            "Downloading data from https://storage.googleapis.com/tensorflow/tf-keras-datasets/t10k-labels-idx1-ubyte.gz\n",
            "8192/5148 [===============================================] - 0s 0us/step\n",
            "Downloading data from https://storage.googleapis.com/tensorflow/tf-keras-datasets/t10k-images-idx3-ubyte.gz\n",
            "4423680/4422102 [==============================] - 0s 0us/step\n"
          ],
          "name": "stdout"
        }
      ]
    },
    {
      "cell_type": "code",
      "metadata": {
        "colab": {
          "base_uri": "https://localhost:8080/"
        },
        "id": "uPTQjhOS7X_m",
        "outputId": "af82d249-1669-4912-dabd-259f68fe9f88"
      },
      "source": [
        "train_image.shape #so we've got 60,000 images that are made up of 28X28 pixels (784 in total)"
      ],
      "execution_count": 3,
      "outputs": [
        {
          "output_type": "execute_result",
          "data": {
            "text/plain": [
              "(60000, 28, 28)"
            ]
          },
          "metadata": {
            "tags": []
          },
          "execution_count": 3
        }
      ]
    },
    {
      "cell_type": "code",
      "metadata": {
        "colab": {
          "base_uri": "https://localhost:8080/"
        },
        "id": "zXDXDiTK7rpG",
        "outputId": "eeb5c76d-2894-412e-d0d9-eaef5bcf39a2"
      },
      "source": [
        "type(train_image)"
      ],
      "execution_count": 4,
      "outputs": [
        {
          "output_type": "execute_result",
          "data": {
            "text/plain": [
              "numpy.ndarray"
            ]
          },
          "metadata": {
            "tags": []
          },
          "execution_count": 4
        }
      ]
    },
    {
      "cell_type": "code",
      "metadata": {
        "colab": {
          "base_uri": "https://localhost:8080/"
        },
        "id": "Yl_m9Jb39oZ7",
        "outputId": "5d34207b-f249-4b98-930a-fa71cc5800ba"
      },
      "source": [
        "train_image[0,23,23] #let's have a look at 1 pixels\n",
        "#1 pixel value are between 0 and 255, 0 being black and 255 being white. 194 means we have a grayscale"
      ],
      "execution_count": 5,
      "outputs": [
        {
          "output_type": "execute_result",
          "data": {
            "text/plain": [
              "194"
            ]
          },
          "metadata": {
            "tags": []
          },
          "execution_count": 5
        }
      ]
    },
    {
      "cell_type": "code",
      "metadata": {
        "colab": {
          "base_uri": "https://localhost:8080/"
        },
        "id": "x4Tcg80r-ipm",
        "outputId": "91a3b272-3a65-4c61-a0d1-1c5856f95251"
      },
      "source": [
        "train_labels[:10] #let look at the first 10 training labels"
      ],
      "execution_count": 6,
      "outputs": [
        {
          "output_type": "execute_result",
          "data": {
            "text/plain": [
              "array([9, 0, 0, 3, 0, 2, 7, 2, 5, 5], dtype=uint8)"
            ]
          },
          "metadata": {
            "tags": []
          },
          "execution_count": 6
        }
      ]
    },
    {
      "cell_type": "code",
      "metadata": {
        "id": "oODjnfgV_vzM"
      },
      "source": [
        "#our labels are integers ranging from 0-9. Each integer represents a specific article of clothing. we'll create an array of label names to indicate\n",
        "class_names = ['T-shirt/top','Trovser','Pullover','Dress','Coat','Sandal','Shirt','Sneaker','Bag','Ankle boot']"
      ],
      "execution_count": 7,
      "outputs": []
    },
    {
      "cell_type": "code",
      "metadata": {
        "colab": {
          "base_uri": "https://localhost:8080/",
          "height": 265
        },
        "id": "7AgZvZ6FTDVD",
        "outputId": "d8ddbd65-8253-45c1-feb9-9336f56d8637"
      },
      "source": [
        "#finally let's look at what some of these images look like!\n",
        "plt.figure() #make a figure\n",
        "plt.imshow(train_image[1]) #show the image\n",
        "plt.colorbar() #color bar\n",
        "plt.grid(False) #don't show grid\n",
        "plt.show() #show me"
      ],
      "execution_count": 8,
      "outputs": [
        {
          "output_type": "display_data",
          "data": {
            "image/png": "[encoded data removed]",
            "text/plain": [
              "<Figure size 432x288 with 2 Axes>"
            ]
          },
          "metadata": {
            "tags": [],
            "needs_background": "light"
          }
        }
      ]
    },
    {
      "cell_type": "code",
      "metadata": {
        "id": "w6pWIre-uil5"
      },
      "source": [
        "#we want to scale all of our grayscale pixels values to be between 0 and 1. we can do this by dividing each value in \n",
        "# the training and testing sets by 255.0 because smaller values will make it easier for the model to process our values\n",
        "train_images = train_image / 255.0\n",
        "test_images = test_images / 255.0"
      ],
      "execution_count": 9,
      "outputs": []
    },
    {
      "cell_type": "code",
      "metadata": {
        "id": "4BUgX-KW0ctl"
      },
      "source": [
        "model = keras.Sequential([\n",
        "    keras.layers.Flatten(input_shape =(28,28)), #input layer(1)\n",
        "    keras.layers.Dense(128, activation='relu'), #hidden layer(2)\n",
        "    keras.layers.Dense(10, activation='softmax') #output layer(3)   10 means that we have 10 classes\n",
        "])\n",
        "#keras.sequential: mean that its very basic form of network, information going from left side to right side\n",
        "#layers.Flatten: does is allow us to take us in shape of (28,28) and flatten all the pixel to 784 pixel in the form of matrix"
      ],
      "execution_count": 10,
      "outputs": []
    },
    {
      "cell_type": "code",
      "metadata": {
        "id": "1katNa7k0cmF"
      },
      "source": [
        "model.compile(optimizer= 'adam',\n",
        "              loss = 'sparse_categorical_crossentropy',\n",
        "              metrics = ['accuracy'])\n",
        "#adam optimizer is an algorithm performing gradient decent"
      ],
      "execution_count": 11,
      "outputs": []
    },
    {
      "cell_type": "code",
      "metadata": {
        "colab": {
          "base_uri": "https://localhost:8080/"
        },
        "id": "-nKdZlPT4JF_",
        "outputId": "4b619ba9-d37b-48c7-eaaf-964b3f57ccd2"
      },
      "source": [
        "model.fit(train_images, train_labels, epochs=10)"
      ],
      "execution_count": 12,
      "outputs": [
        {
          "output_type": "stream",
          "text": [
            "Epoch 1/10\n",
            "1875/1875 [==============================] - 4s 2ms/step - loss: 0.6297 - accuracy: 0.7775\n",
            "Epoch 2/10\n",
            "1875/1875 [==============================] - 4s 2ms/step - loss: 0.3763 - accuracy: 0.8645\n",
            "Epoch 3/10\n",
            "1875/1875 [==============================] - 3s 2ms/step - loss: 0.3369 - accuracy: 0.8754\n",
            "Epoch 4/10\n",
            "1875/1875 [==============================] - 3s 2ms/step - loss: 0.3100 - accuracy: 0.8852\n",
            "Epoch 5/10\n",
            "1875/1875 [==============================] - 3s 2ms/step - loss: 0.2971 - accuracy: 0.8909\n",
            "Epoch 6/10\n",
            "1875/1875 [==============================] - 4s 2ms/step - loss: 0.2742 - accuracy: 0.8986\n",
            "Epoch 7/10\n",
            "1875/1875 [==============================] - 4s 2ms/step - loss: 0.2680 - accuracy: 0.8999\n",
            "Epoch 8/10\n",
            "1875/1875 [==============================] - 4s 2ms/step - loss: 0.2532 - accuracy: 0.9060\n",
            "Epoch 9/10\n",
            "1875/1875 [==============================] - 4s 2ms/step - loss: 0.2404 - accuracy: 0.9110\n",
            "Epoch 10/10\n",
            "1875/1875 [==============================] - 4s 2ms/step - loss: 0.2289 - accuracy: 0.9143\n"
          ],
          "name": "stdout"
        },
        {
          "output_type": "execute_result",
          "data": {
            "text/plain": [
              "<tensorflow.python.keras.callbacks.History at 0x7f7017184490>"
            ]
          },
          "metadata": {
            "tags": []
          },
          "execution_count": 12
        }
      ]
    },
    {
      "cell_type": "code",
      "metadata": {
        "colab": {
          "base_uri": "https://localhost:8080/"
        },
        "id": "om1pWxnr4pw-",
        "outputId": "ff68eeea-c292-4c6d-e5a4-648fa55f88d9"
      },
      "source": [
        "test_loss , test_acc = model.evaluate(test_images, test_labels, verbose=1)\n",
        "print('test accuracy:' , test_acc)"
      ],
      "execution_count": 13,
      "outputs": [
        {
          "output_type": "stream",
          "text": [
            "313/313 [==============================] - 1s 1ms/step - loss: 0.3267 - accuracy: 0.8845\n",
            "test accuracy: 0.8845000267028809\n"
          ],
          "name": "stdout"
        }
      ]
    },
    {
      "cell_type": "code",
      "metadata": {
        "colab": {
          "base_uri": "https://localhost:8080/"
        },
        "id": "F6TfPqAu7Hv4",
        "outputId": "ca9d669b-f497-4328-9322-74894656e2b4"
      },
      "source": [
        "predictions = model.predict(test_images)\n",
        "print(predictions[0])"
      ],
      "execution_count": 14,
      "outputs": [
        {
          "output_type": "stream",
          "text": [
            "[6.8592722e-11 3.5364298e-12 2.7985952e-10 4.5095198e-11 2.6567210e-10\n",
            " 3.3781983e-04 8.3300243e-08 1.6035227e-02 2.4206742e-07 9.8362666e-01]\n"
          ],
          "name": "stdout"
        }
      ]
    },
    {
      "cell_type": "code",
      "metadata": {
        "colab": {
          "base_uri": "https://localhost:8080/"
        },
        "id": "A2KC7xkQ73af",
        "outputId": "9900a6e8-bc8d-4775-be91-2dec1506796c"
      },
      "source": [
        "print(np.argmax(predictions[0]))"
      ],
      "execution_count": 16,
      "outputs": [
        {
          "output_type": "stream",
          "text": [
            "9\n"
          ],
          "name": "stdout"
        }
      ]
    },
    {
      "cell_type": "code",
      "metadata": {
        "colab": {
          "base_uri": "https://localhost:8080/"
        },
        "id": "NBERnqyZiSbr",
        "outputId": "9db649ac-ca2b-47fc-fb62-cd28869c7870"
      },
      "source": [
        "print(class_names[np.argmax(predictions[1])])"
      ],
      "execution_count": 17,
      "outputs": [
        {
          "output_type": "stream",
          "text": [
            "Pullover\n"
          ],
          "name": "stdout"
        }
      ]
    },
    {
      "cell_type": "code",
      "metadata": {
        "colab": {
          "base_uri": "https://localhost:8080/",
          "height": 265
        },
        "id": "DQP59iaElee8",
        "outputId": "583ab25a-fa7f-45b5-b1dc-f26b760f3c15"
      },
      "source": [
        "#finally let's look at what some of these images look like!\n",
        "plt.figure() #make a figure\n",
        "plt.imshow(train_image[1]) #show the image\n",
        "plt.colorbar() #color bar\n",
        "plt.grid(False) #don't show grid\n",
        "plt.show() #show me"
      ],
      "execution_count": 18,
      "outputs": [
        {
          "output_type": "display_data",
          "data": {
            "image/png": "[encoded data removed]",
            "text/plain": [
              "<Figure size 432x288 with 2 Axes>"
            ]
          },
          "metadata": {
            "tags": [],
            "needs_background": "light"
          }
        }
      ]
    },
    {
      "cell_type": "code",
      "metadata": {
        "colab": {
          "base_uri": "https://localhost:8080/",
          "height": 312
        },
        "id": "RJIW5nnhl3zM",
        "outputId": "b1dc1112-47ef-4c1d-e377-667f7dbe3d1a"
      },
      "source": [
        "COLOR = 'white'\n",
        "plt.rcParams['text.color'] = COLOR\n",
        "plt.rcParams['axes.labelcolor'] = COLOR\n",
        "\n",
        "def predict(model,image,correct_label):\n",
        "  class_names = ['T-shirt/top','Trovser','Pullover','Dress','Coat','Sandal','Shirt','Sneaker','Bag','Ankle boot']\n",
        "  prediction = model.predict(np.array([image]))\n",
        "  predicted_class = class_names[np.argmax(prediction)]\n",
        "  show_image(image, class_names[correct_label], predicted_class)\n",
        "\n",
        "def show_image(img,label,guess):\n",
        "  plt.figure()\n",
        "  plt.imshow(img, cmap=plt.cm.binary)\n",
        "  plt.title('expected:' + label)\n",
        "  plt.xlabel('Guess:' + guess)\n",
        "  plt.colorbar()\n",
        "  plt.grid(False)\n",
        "  plt.show()\n",
        "def get_number():\n",
        "  while True:\n",
        "    num = input('pick a number:')\n",
        "    if num.isdigit():\n",
        "      num = int(num)\n",
        "      if 0 <=num <=1000:\n",
        "        return int(num)\n",
        "    else:\n",
        "      print('Try Again')\n",
        "\n",
        "num = get_number()\n",
        "image = test_images[num]\n",
        "label = test_labels[num]\n",
        "predict(model, image, label)"
      ],
      "execution_count": 22,
      "outputs": [
        {
          "output_type": "stream",
          "text": [
            "pick a number:45\n"
          ],
          "name": "stdout"
        },
        {
          "output_type": "display_data",
          "data": {
            "image/png": "[encoded data removed]",
            "text/plain": [
              "<Figure size 432x288 with 2 Axes>"
            ]
          },
          "metadata": {
            "tags": [],
            "needs_background": "light"
          }
        }
      ]
    }
  ]
}