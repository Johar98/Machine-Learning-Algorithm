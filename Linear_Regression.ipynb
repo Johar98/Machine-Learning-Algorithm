{
  "nbformat": 4,
  "nbformat_minor": 0,
  "metadata": {
    "colab": {
      "name": "Linear_Regression.ipynb",
      "provenance": [],
      "collapsed_sections": [],
      "authorship_tag": "ABX9TyM2FXu+g8FPiqRLSMfpW7re",
      "include_colab_link": true
    },
    "kernelspec": {
      "name": "python3",
      "display_name": "Python 3"
    }
  },
  "cells": [
    {
      "cell_type": "markdown",
      "metadata": {
        "id": "view-in-github",
        "colab_type": "text"
      },
      "source": [
        "<a href=\"https://colab.research.google.com/github/Johar98/Machine-Learning-Algorithm/blob/main/Linear_Regression.ipynb\" target=\"_parent\"><img src=\"https://colab.research.google.com/assets/colab-badge.svg\" alt=\"Open In Colab\"/></a>"
      ]
    },
    {
      "cell_type": "code",
      "metadata": {
        "id": "6MGFHXxqzSEH"
      },
      "source": [
        "!pip install -q sklearn"
      ],
      "execution_count": 5,
      "outputs": []
    },
    {
      "cell_type": "code",
      "metadata": {
        "id": "VjYUaw-nxi1T"
      },
      "source": [
        "%tensorflow_version 2.x"
      ],
      "execution_count": 6,
      "outputs": []
    },
    {
      "cell_type": "code",
      "metadata": {
        "id": "NanbaGqRzbRC"
      },
      "source": [
        "from __future__ import absolute_import,division,print_function,unicode_literals\r\n",
        "import numpy as np\r\n",
        "import pandas as pd\r\n",
        "import matplotlib.pyplot as plt\r\n",
        "from IPython.display import clear_output\r\n",
        "from six.moves import urllib"
      ],
      "execution_count": null,
      "outputs": []
    },
    {
      "cell_type": "code",
      "metadata": {
        "id": "ZB57NzTv28dU"
      },
      "source": [
        "import tensorflow.compat.v2.feature_column as fc\r\n",
        "import tensorflow as tf"
      ],
      "execution_count": null,
      "outputs": []
    }
  ]
}