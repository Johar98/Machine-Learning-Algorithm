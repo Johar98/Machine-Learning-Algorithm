{
  "nbformat": 4,
  "nbformat_minor": 0,
  "metadata": {
    "colab": {
      "name": "Hidden_Markov_Models.ipynb",
      "provenance": [],
      "authorship_tag": "ABX9TyNc5sU3tMITK80VX+JN7b0K",
      "include_colab_link": true
    },
    "kernelspec": {
      "name": "python3",
      "display_name": "Python 3"
    },
    "language_info": {
      "name": "python"
    }
  },
  "cells": [
    {
      "cell_type": "markdown",
      "metadata": {
        "id": "view-in-github",
        "colab_type": "text"
      },
      "source": [
        "<a href=\"https://colab.research.google.com/github/Johar98/Machine-Learning-Algorithm/blob/main/Hidden_Markov_Models.ipynb\" target=\"_parent\"><img src=\"https://colab.research.google.com/assets/colab-badge.svg\" alt=\"Open In Colab\"/></a>"
      ]
    },
    {
      "cell_type": "markdown",
      "metadata": {
        "id": "LJbu5Ol08FBm"
      },
      "source": [
        "**Determine/predict the wheather of a day either sunny or raining.**"
      ]
    },
    {
      "cell_type": "code",
      "metadata": {
        "id": "x9mDQD_g5vvl"
      },
      "source": [
        "%tensorflow_version 2.x"
      ],
      "execution_count": 5,
      "outputs": []
    },
    {
      "cell_type": "code",
      "metadata": {
        "id": "i54rKcPe5Fra"
      },
      "source": [
        "import tensorflow_probability as tfp\n",
        "import tensorflow as tf"
      ],
      "execution_count": 6,
      "outputs": []
    },
    {
      "cell_type": "code",
      "metadata": {
        "id": "rOvXqyXB5uGY"
      },
      "source": [
        "tfd = tfp.distributions # extract the distributions model from tf probability\n",
        "initial_distribution = tfd.Categorical(probs=[0.8, 0.2])        #The first day in our sequence has an 0.8 ie (80%) chance of being cold and\n",
        "                                                                # 0.2 ie (20%) chance of being hot\n",
        "transition_distribution = tfd.Categorical(probs=[[0.7, 0.3],[0.2, 0.8]])  #A cold day has a 0.3 ie (30%) chance of being follow by a hot day.\n",
        "                                                                          #A hot day has a 0.2 ie (20%) chance of being follow by a cold day.\n",
        "observation_distribution = tfd.Normal(loc=[0.,15.], scale=[5.,10.]) #On each day the temperature with mean and standard deviation 0 and 5 on a cold day\n",
        "#scale mean standard deviation                                      #and mean and standard deviation 15 and 10 on a hot day"
      ],
      "execution_count": 7,
      "outputs": []
    },
    {
      "cell_type": "code",
      "metadata": {
        "id": "CEut9Ia8BME_"
      },
      "source": [
        "model = tfd.HiddenMarkovModel(\n",
        "    initial_distribution = initial_distribution,          \n",
        "    transition_distribution = transition_distribution,\n",
        "    observation_distribution = observation_distribution,\n",
        "    num_steps = 7 # How many day we want to predict / how many time we step the model, through this probability model and run it.\n",
        ")"
      ],
      "execution_count": 8,
      "outputs": []
    },
    {
      "cell_type": "code",
      "metadata": {
        "id": "XxTy-fGHCk6Q"
      },
      "source": [
        "mean = model.mean() # calculate the probability back from the model\n",
        "#due to the way tensorflow works on a lower level we need to evalute part of the graph"
      ],
      "execution_count": 10,
      "outputs": []
    },
    {
      "cell_type": "code",
      "metadata": {
        "colab": {
          "base_uri": "https://localhost:8080/"
        },
        "id": "Il3xgxNCEJvt",
        "outputId": "83ed6e31-cace-45fa-98a5-0616451a54c5"
      },
      "source": [
        "with tf.compat.v1.Session() as sess:\n",
        "  print(mean.numpy())\n",
        "\n",
        "#from within a session to see value of this tensor\n",
        "#in the new version of tensorflow we need to use tf.compat.v1.session() rather then just tf.session()"
      ],
      "execution_count": 12,
      "outputs": [
        {
          "output_type": "stream",
          "text": [
            "[2.9999998 5.9999995 7.4999995 8.25      8.625001  8.812501  8.90625  ]\n"
          ],
          "name": "stdout"
        }
      ]
    }
  ]
}